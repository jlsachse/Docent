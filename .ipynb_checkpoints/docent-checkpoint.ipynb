{
 "cells": [
  {
   "cell_type": "code",
   "execution_count": 1,
   "id": "ec38b3f1-3f88-4923-9ba4-b06679f3231a",
   "metadata": {},
   "outputs": [],
   "source": [
    "import pdf2image\n",
    "import spacy\n",
    "\n",
    "import pytesseract\n",
    "from pytesseract import Output\n",
    "\n",
    "import numpy as np\n",
    "\n",
    "import matplotlib.pyplot as plt\n",
    "\n",
    "import cv2\n",
    "from PIL import Image"
   ]
  },
  {
   "cell_type": "code",
   "execution_count": 2,
   "id": "e5d76cf7-b092-4e19-88ec-fe4b31eda0cb",
   "metadata": {},
   "outputs": [],
   "source": [
    "def mark_entities(image, doc, data, num_parts, nlp):\n",
    "    \n",
    "    org_image = image[:, :, ::-1].copy() \n",
    "    \n",
    "    data = {key: [value for index, value in enumerate(values) if (data['text'][index] != '') & (data['level'][index] == 5)] for key, values in data.items()}\n",
    "    \n",
    "    num_boxes = len(d['level'])\n",
    "    \n",
    "    cmap = plt.get_cmap('tab20')\n",
    "    labels = nlp.components[3][1].labels\n",
    "    colors = cmap(np.linspace(0, 1, len(labels)))\n",
    "    \n",
    "    color_dict = dict(zip(labels, colors[:,:3] * 255))\n",
    "    \n",
    "    for box in range(num_boxes):\n",
    "        \n",
    "        for current_parts in range(1, num_parts + 1):\n",
    "            \n",
    "            entities_org = [entity for entity in list(doc.ents) if len(entity.text.split()) == current_parts]\n",
    "            entities = [entity.text for entity in list(doc.ents) if len(entity.text.split()) == current_parts]\n",
    "            print(color_dict)\n",
    "            string = ' '.join(data['text'][box:box + current_parts])\n",
    "            \n",
    "            if string.strip('!?@#$.,') in entities:\n",
    "                \n",
    "                label = entities_org[entities.index(string.strip('!?@#$.,'))].label_\n",
    "                \n",
    "                rectangles = {key: values[box:box + current_parts] for key, values in data.items()}\n",
    "                \n",
    "                rectangles = find_min_rect(rectangles)\n",
    "                \n",
    "                for rectangle in rectangles:\n",
    "                \n",
    "                    x1, y1, x2, y2 = rectangle\n",
    "                    cv2.rectangle(image, (x1, y1), (x2, y2), color_dict[label], -1)\n",
    "            \n",
    "    alpha = .4       \n",
    "    return cv2.addWeighted(image, alpha, org_image, 1 - alpha, 0)"
   ]
  },
  {
   "cell_type": "code",
   "execution_count": 3,
   "id": "a0936ed1-4464-4430-a62f-e4fe67d74cdf",
   "metadata": {},
   "outputs": [],
   "source": [
    "def find_min_rect(rectangles):\n",
    "    \n",
    "\n",
    "    \n",
    "    rectangles = [{'y1': rectangles['top'][index], 'x1': rectangles['left'][index], 'y2': rectangles['top'][index] + \n",
    "                   rectangles['height'][index], 'x2': rectangles['left'][index] + rectangles['width'][index]}\n",
    "                  for index in range(len(rectangles['top']))]\n",
    "    \n",
    "    rows = [[rectangles[0]]]\n",
    "    last_rectangle = rectangles[0]\n",
    "    \n",
    "    for rectangle in rectangles[1:]:\n",
    "        \n",
    "        if (rectangle['x1'] < last_rectangle['x1']):\n",
    "            rows.append([])\n",
    "            \n",
    "        rows[len(rows) - 1].append(rectangle) \n",
    "        last_rectangle = rectangle\n",
    "    \n",
    "    final_rects = []\n",
    "    \n",
    "    for row in rows:\n",
    "        final_rect = \\\n",
    "        [min([rectangle['x1'] for rectangle in row]),\n",
    "         min([rectangle['y1'] for rectangle in row]),\n",
    "         max([rectangle['x2'] for rectangle in row]),\n",
    "         max([rectangle['y2'] for rectangle in row])]\n",
    "        final_rects.append(final_rect)\n",
    "        \n",
    "    #x_coordinates = rectangles['top'] + [rectangles['top'][index] + rectangles['height'][index] for index, _ in enumerate(rectangles['height'])]\n",
    "    #y_coordinates = rectangles['left'] + [rectangles['left'][index] + rectangles['width'][index] for index, _ in enumerate(rectangles['width'])]\n",
    "    \n",
    "    return  final_rects"
   ]
  },
  {
   "cell_type": "code",
   "execution_count": 4,
   "id": "e922283d-a66b-423e-90b0-74f667841b3b",
   "metadata": {},
   "outputs": [],
   "source": [
    "pdf = 'example'"
   ]
  },
  {
   "cell_type": "code",
   "execution_count": 5,
   "id": "22a5cc70-9271-47bc-9cd9-55a271104aec",
   "metadata": {},
   "outputs": [],
   "source": [
    "nlp = spacy.load(\"en_core_web_trf\", disable=[\"tok2vec\", \"tagger\", \"parser\", \"attribute_ruler\", \"lemmatizer\", \"tokenizer\"])"
   ]
  },
  {
   "cell_type": "code",
   "execution_count": 6,
   "id": "cac0c621-d970-4360-af51-e4a430b20e00",
   "metadata": {},
   "outputs": [
    {
     "data": {
      "text/plain": [
       "{'factory': 'ner',\n",
       " 'incorrect_spans_key': None,\n",
       " 'moves': None,\n",
       " 'update_with_oracle_cut_size': 100,\n",
       " 'model': {'@architectures': 'spacy.TransitionBasedParser.v2',\n",
       "  'state_type': 'ner',\n",
       "  'extra_state_tokens': False,\n",
       "  'hidden_width': 64,\n",
       "  'maxout_pieces': 2,\n",
       "  'use_upper': False,\n",
       "  'nO': None,\n",
       "  'tok2vec': {'@architectures': 'spacy-transformers.TransformerListener.v1',\n",
       "   'grad_factor': 1.0,\n",
       "   'upstream': 'transformer',\n",
       "   'pooling': {'@layers': 'reduce_mean.v1'}}}}"
      ]
     },
     "execution_count": 6,
     "metadata": {},
     "output_type": "execute_result"
    }
   ],
   "source": [
    "nlp._config['components']['ner']"
   ]
  },
  {
   "cell_type": "code",
   "execution_count": 8,
   "id": "b06bd4fc-087a-40fb-a3c2-f717158f2181",
   "metadata": {},
   "outputs": [
    {
     "ename": "KeyError",
     "evalue": "'PERSON'",
     "output_type": "error",
     "traceback": [
      "\u001b[1;31m---------------------------------------------------------------------------\u001b[0m",
      "\u001b[1;31mKeyError\u001b[0m                                  Traceback (most recent call last)",
      "\u001b[1;32m<timed exec>\u001b[0m in \u001b[0;36m<module>\u001b[1;34m\u001b[0m\n",
      "\u001b[1;32m<ipython-input-2-4c702e7f73b5>\u001b[0m in \u001b[0;36mmark_entities\u001b[1;34m(image, doc, data, num_parts, nlp)\u001b[0m\n\u001b[0;32m     33\u001b[0m \u001b[1;33m\u001b[0m\u001b[0m\n\u001b[0;32m     34\u001b[0m                     \u001b[0mx1\u001b[0m\u001b[1;33m,\u001b[0m \u001b[0my1\u001b[0m\u001b[1;33m,\u001b[0m \u001b[0mx2\u001b[0m\u001b[1;33m,\u001b[0m \u001b[0my2\u001b[0m \u001b[1;33m=\u001b[0m \u001b[0mrectangle\u001b[0m\u001b[1;33m\u001b[0m\u001b[1;33m\u001b[0m\u001b[0m\n\u001b[1;32m---> 35\u001b[1;33m                     \u001b[0mcv2\u001b[0m\u001b[1;33m.\u001b[0m\u001b[0mrectangle\u001b[0m\u001b[1;33m(\u001b[0m\u001b[0mimage\u001b[0m\u001b[1;33m,\u001b[0m \u001b[1;33m(\u001b[0m\u001b[0mx1\u001b[0m\u001b[1;33m,\u001b[0m \u001b[0my1\u001b[0m\u001b[1;33m)\u001b[0m\u001b[1;33m,\u001b[0m \u001b[1;33m(\u001b[0m\u001b[0mx2\u001b[0m\u001b[1;33m,\u001b[0m \u001b[0my2\u001b[0m\u001b[1;33m)\u001b[0m\u001b[1;33m,\u001b[0m \u001b[0mcolor_dict\u001b[0m\u001b[1;33m[\u001b[0m\u001b[0mlabel\u001b[0m\u001b[1;33m]\u001b[0m\u001b[1;33m,\u001b[0m \u001b[1;33m-\u001b[0m\u001b[1;36m1\u001b[0m\u001b[1;33m)\u001b[0m\u001b[1;33m\u001b[0m\u001b[1;33m\u001b[0m\u001b[0m\n\u001b[0m\u001b[0;32m     36\u001b[0m \u001b[1;33m\u001b[0m\u001b[0m\n\u001b[0;32m     37\u001b[0m     \u001b[0malpha\u001b[0m \u001b[1;33m=\u001b[0m \u001b[1;36m.4\u001b[0m\u001b[1;33m\u001b[0m\u001b[1;33m\u001b[0m\u001b[0m\n",
      "\u001b[1;31mKeyError\u001b[0m: 'PERSON'"
     ]
    }
   ],
   "source": [
    "%%time\n",
    "\n",
    "images = pdf2image.convert_from_path(f'input/{pdf}.pdf')\n",
    "\n",
    "result_images = []\n",
    "\n",
    "for image in images:\n",
    "    d = pytesseract.image_to_data(image, output_type=Output.DICT)\n",
    "\n",
    "    text = pytesseract.image_to_string(image)\n",
    "    text = ' '.join(text.split())\n",
    "\n",
    "    doc = nlp(text)\n",
    "\n",
    "    image = np.array(image) \n",
    "    image = image[:, :, ::-1].copy() \n",
    "    \n",
    "    image = mark_entities(image, doc, d, 6, nlp)\n",
    "    \n",
    "    result_images.append(Image.fromarray(image))\n",
    "\n",
    "    \n",
    "result_images[0].save(f'output/{pdf}-result.pdf', \"PDF\" ,resolution=100.0, save_all=True, append_images=result_images[1:])\n"
   ]
  }
 ],
 "metadata": {
  "kernelspec": {
   "display_name": "Python 3",
   "language": "python",
   "name": "python3"
  },
  "language_info": {
   "codemirror_mode": {
    "name": "ipython",
    "version": 3
   },
   "file_extension": ".py",
   "mimetype": "text/x-python",
   "name": "python",
   "nbconvert_exporter": "python",
   "pygments_lexer": "ipython3",
   "version": "3.9.5"
  }
 },
 "nbformat": 4,
 "nbformat_minor": 5
}
